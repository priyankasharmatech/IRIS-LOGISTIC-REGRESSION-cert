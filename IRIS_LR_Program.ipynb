{
  "nbformat": 4,
  "nbformat_minor": 0,
  "metadata": {
    "colab": {
      "name": "IRIS LR Program.ipynb",
      "provenance": []
    },
    "kernelspec": {
      "name": "python3",
      "display_name": "Python 3"
    }
  },
  "cells": [
    {
      "cell_type": "markdown",
      "metadata": {
        "id": "Y63OuDt5qUhc",
        "colab_type": "text"
      },
      "source": [
        "# This is a Simple Logistic Regression Program to Classify Iris Species"
      ]
    },
    {
      "cell_type": "markdown",
      "metadata": {
        "id": "sRcuGskJqijd",
        "colab_type": "text"
      },
      "source": [
        "#1. Import the Dependencies"
      ]
    },
    {
      "cell_type": "code",
      "metadata": {
        "id": "iVU5Tfn4qmpL",
        "colab_type": "code",
        "colab": {}
      },
      "source": [
        "import matplotlib.pyplot as plt\n",
        "import seaborn as sns  \n",
        "from sklearn.linear_model import LogisticRegression\n",
        "from sklearn.metrics import classification_report\n",
        "from sklearn.metrics import accuracy_score\n",
        "from sklearn.metrics import confusion_matrix\n",
        "from sklearn.model_selection import train_test_split\n",
        "\n"
      ],
      "execution_count": 14,
      "outputs": []
    },
    {
      "cell_type": "markdown",
      "metadata": {
        "id": "CRSVQUyFrtgW",
        "colab_type": "text"
      },
      "source": [
        "#2. Load dataset"
      ]
    },
    {
      "cell_type": "code",
      "metadata": {
        "id": "TN-UD_HXrpBi",
        "colab_type": "code",
        "colab": {
          "base_uri": "https://localhost:8080/",
          "height": 198
        },
        "outputId": "5372429b-cc6e-4688-939c-c522e1fe6a6c"
      },
      "source": [
        "data=sns.load_dataset('iris')\n",
        "data.head()"
      ],
      "execution_count": 2,
      "outputs": [
        {
          "output_type": "execute_result",
          "data": {
            "text/html": [
              "<div>\n",
              "<style scoped>\n",
              "    .dataframe tbody tr th:only-of-type {\n",
              "        vertical-align: middle;\n",
              "    }\n",
              "\n",
              "    .dataframe tbody tr th {\n",
              "        vertical-align: top;\n",
              "    }\n",
              "\n",
              "    .dataframe thead th {\n",
              "        text-align: right;\n",
              "    }\n",
              "</style>\n",
              "<table border=\"1\" class=\"dataframe\">\n",
              "  <thead>\n",
              "    <tr style=\"text-align: right;\">\n",
              "      <th></th>\n",
              "      <th>sepal_length</th>\n",
              "      <th>sepal_width</th>\n",
              "      <th>petal_length</th>\n",
              "      <th>petal_width</th>\n",
              "      <th>species</th>\n",
              "    </tr>\n",
              "  </thead>\n",
              "  <tbody>\n",
              "    <tr>\n",
              "      <th>0</th>\n",
              "      <td>5.1</td>\n",
              "      <td>3.5</td>\n",
              "      <td>1.4</td>\n",
              "      <td>0.2</td>\n",
              "      <td>setosa</td>\n",
              "    </tr>\n",
              "    <tr>\n",
              "      <th>1</th>\n",
              "      <td>4.9</td>\n",
              "      <td>3.0</td>\n",
              "      <td>1.4</td>\n",
              "      <td>0.2</td>\n",
              "      <td>setosa</td>\n",
              "    </tr>\n",
              "    <tr>\n",
              "      <th>2</th>\n",
              "      <td>4.7</td>\n",
              "      <td>3.2</td>\n",
              "      <td>1.3</td>\n",
              "      <td>0.2</td>\n",
              "      <td>setosa</td>\n",
              "    </tr>\n",
              "    <tr>\n",
              "      <th>3</th>\n",
              "      <td>4.6</td>\n",
              "      <td>3.1</td>\n",
              "      <td>1.5</td>\n",
              "      <td>0.2</td>\n",
              "      <td>setosa</td>\n",
              "    </tr>\n",
              "    <tr>\n",
              "      <th>4</th>\n",
              "      <td>5.0</td>\n",
              "      <td>3.6</td>\n",
              "      <td>1.4</td>\n",
              "      <td>0.2</td>\n",
              "      <td>setosa</td>\n",
              "    </tr>\n",
              "  </tbody>\n",
              "</table>\n",
              "</div>"
            ],
            "text/plain": [
              "   sepal_length  sepal_width  petal_length  petal_width species\n",
              "0           5.1          3.5           1.4          0.2  setosa\n",
              "1           4.9          3.0           1.4          0.2  setosa\n",
              "2           4.7          3.2           1.3          0.2  setosa\n",
              "3           4.6          3.1           1.5          0.2  setosa\n",
              "4           5.0          3.6           1.4          0.2  setosa"
            ]
          },
          "metadata": {
            "tags": []
          },
          "execution_count": 2
        }
      ]
    },
    {
      "cell_type": "markdown",
      "metadata": {
        "id": "DUhDoRYNsNPm",
        "colab_type": "text"
      },
      "source": [
        "#3. Prepare the Training Set "
      ]
    },
    {
      "cell_type": "markdown",
      "metadata": {
        "id": "fTm-yicFsVN5",
        "colab_type": "text"
      },
      "source": [
        "# X= Feature values,all the column except the last column as it is independent dataset "
      ]
    },
    {
      "cell_type": "code",
      "metadata": {
        "id": "wel0FwGdsfhE",
        "colab_type": "code",
        "colab": {}
      },
      "source": [
        "X=data.iloc[:,:-1]   "
      ],
      "execution_count": 3,
      "outputs": []
    },
    {
      "cell_type": "code",
      "metadata": {
        "id": "c0I71R-FsmYZ",
        "colab_type": "code",
        "colab": {
          "base_uri": "https://localhost:8080/",
          "height": 272
        },
        "outputId": "26070eb6-31af-4003-9d53-44eb173cfd2b"
      },
      "source": [
        "print(X)\n"
      ],
      "execution_count": 15,
      "outputs": [
        {
          "output_type": "stream",
          "text": [
            "     sepal_length  sepal_width  petal_length  petal_width\n",
            "0             5.1          3.5           1.4          0.2\n",
            "1             4.9          3.0           1.4          0.2\n",
            "2             4.7          3.2           1.3          0.2\n",
            "3             4.6          3.1           1.5          0.2\n",
            "4             5.0          3.6           1.4          0.2\n",
            "..            ...          ...           ...          ...\n",
            "145           6.7          3.0           5.2          2.3\n",
            "146           6.3          2.5           5.0          1.9\n",
            "147           6.5          3.0           5.2          2.0\n",
            "148           6.2          3.4           5.4          2.3\n",
            "149           5.9          3.0           5.1          1.8\n",
            "\n",
            "[150 rows x 4 columns]\n"
          ],
          "name": "stdout"
        }
      ]
    },
    {
      "cell_type": "markdown",
      "metadata": {
        "id": "2osrh5iMsyuP",
        "colab_type": "text"
      },
      "source": [
        "#y=target values,last column of the data frame \n"
      ]
    },
    {
      "cell_type": "code",
      "metadata": {
        "id": "AUaVe-deso7H",
        "colab_type": "code",
        "colab": {}
      },
      "source": [
        "y=data.iloc[:,-1]   # take last  column value only which is dependent"
      ],
      "execution_count": 5,
      "outputs": []
    },
    {
      "cell_type": "code",
      "metadata": {
        "id": "Gptfe-9gtKGB",
        "colab_type": "code",
        "colab": {
          "base_uri": "https://localhost:8080/",
          "height": 235
        },
        "outputId": "4d8e539d-f915-4d1d-93e1-1586a848c662"
      },
      "source": [
        "print(y)\n"
      ],
      "execution_count": 16,
      "outputs": [
        {
          "output_type": "stream",
          "text": [
            "0         setosa\n",
            "1         setosa\n",
            "2         setosa\n",
            "3         setosa\n",
            "4         setosa\n",
            "         ...    \n",
            "145    virginica\n",
            "146    virginica\n",
            "147    virginica\n",
            "148    virginica\n",
            "149    virginica\n",
            "Name: species, Length: 150, dtype: object\n"
          ],
          "name": "stdout"
        }
      ]
    },
    {
      "cell_type": "code",
      "metadata": {
        "id": "fgCqi8ZStMli",
        "colab_type": "code",
        "colab": {}
      },
      "source": [
        ""
      ],
      "execution_count": null,
      "outputs": []
    },
    {
      "cell_type": "markdown",
      "metadata": {
        "id": "cA3HSTIftpWx",
        "colab_type": "text"
      },
      "source": [
        "# ploting as follows"
      ]
    },
    {
      "cell_type": "code",
      "metadata": {
        "id": "dDhcd4tutsGF",
        "colab_type": "code",
        "colab": {
          "base_uri": "https://localhost:8080/",
          "height": 279
        },
        "outputId": "b7b973f8-447c-48c2-b5fa-fc6114f4cf19"
      },
      "source": [
        "plt.xlabel('Features')\n",
        "plt.ylabel('Species')\n",
        "\n",
        "pltX=data.loc[:,'sepal_length']\n",
        "pltY=data.loc[:,'species']\n",
        "plt.scatter(pltX,pltY,color='blue',label='sepal_length')\n",
        "\n",
        "pltX=data.loc[:,'sepal_width']\n",
        "pltY=data.loc[:,'species']\n",
        "plt.scatter(pltX,pltY,color='green',label='sepal_width')\n",
        "\n",
        "pltX=data.loc[:,'petal_length']\n",
        "pltY=data.loc[:,'species']\n",
        "plt.scatter(pltX,pltY,color='yellow',label='petal_length')\n",
        "\n",
        "pltX=data.loc[:,'petal_width']\n",
        "pltY=data.loc[:,'species']\n",
        "plt.scatter(pltX,pltY,color='black',label='petal_width')\n",
        "\n",
        "# ploting the legend as well\n",
        "plt.legend(loc=4,prop={'size':8})\n",
        "plt.show()\n",
        "\n",
        "\n",
        "\n",
        "\n"
      ],
      "execution_count": 8,
      "outputs": [
        {
          "output_type": "display_data",
          "data": {
            "image/png": "[encoded data removed]",
            "text/plain": [
              "<Figure size 432x288 with 1 Axes>"
            ]
          },
          "metadata": {
            "tags": [],
            "needs_background": "light"
          }
        }
      ]
    },
    {
      "cell_type": "markdown",
      "metadata": {
        "id": "IGGF9Q_dwUNe",
        "colab_type": "text"
      },
      "source": [
        "#5. Split the Data into 80% training and 20 % testing \n",
        "# here we have 150 records = 80% of 150 =120  training data\n",
        "# and 20% of 150 =30  for test data"
      ]
    },
    {
      "cell_type": "code",
      "metadata": {
        "id": "XgBaQd2Kwt0z",
        "colab_type": "code",
        "colab": {}
      },
      "source": [
        "x_train,x_test,y_train,y_test=train_test_split(X,y,test_size=0.2,random_state=42)"
      ],
      "execution_count": 17,
      "outputs": []
    },
    {
      "cell_type": "markdown",
      "metadata": {
        "id": "zrWSJFhHyMQu",
        "colab_type": "text"
      },
      "source": [
        "#6. Train the Model"
      ]
    },
    {
      "cell_type": "code",
      "metadata": {
        "id": "_9jv_59_xFJn",
        "colab_type": "code",
        "colab": {
          "base_uri": "https://localhost:8080/",
          "height": 254
        },
        "outputId": "ac304b44-1cee-4602-ab0c-b5830c6e6e7f"
      },
      "source": [
        "model=LogisticRegression()\n",
        "model.fit(x_train,y_train) # here we are training the model"
      ],
      "execution_count": 18,
      "outputs": [
        {
          "output_type": "stream",
          "text": [
            "/usr/local/lib/python3.6/dist-packages/sklearn/linear_model/_logistic.py:940: ConvergenceWarning: lbfgs failed to converge (status=1):\n",
            "STOP: TOTAL NO. of ITERATIONS REACHED LIMIT.\n",
            "\n",
            "Increase the number of iterations (max_iter) or scale the data as shown in:\n",
            "    https://scikit-learn.org/stable/modules/preprocessing.html\n",
            "Please also refer to the documentation for alternative solver options:\n",
            "    https://scikit-learn.org/stable/modules/linear_model.html#logistic-regression\n",
            "  extra_warning_msg=_LOGISTIC_SOLVER_CONVERGENCE_MSG)\n"
          ],
          "name": "stderr"
        },
        {
          "output_type": "execute_result",
          "data": {
            "text/plain": [
              "LogisticRegression(C=1.0, class_weight=None, dual=False, fit_intercept=True,\n",
              "                   intercept_scaling=1, l1_ratio=None, max_iter=100,\n",
              "                   multi_class='auto', n_jobs=None, penalty='l2',\n",
              "                   random_state=None, solver='lbfgs', tol=0.0001, verbose=0,\n",
              "                   warm_start=False)"
            ]
          },
          "metadata": {
            "tags": []
          },
          "execution_count": 18
        }
      ]
    },
    {
      "cell_type": "markdown",
      "metadata": {
        "id": "QI1C2pyAyixx",
        "colab_type": "text"
      },
      "source": [
        "#judging the prediction while creating"
      ]
    },
    {
      "cell_type": "code",
      "metadata": {
        "id": "F48JQAv8ydMD",
        "colab_type": "code",
        "colab": {
          "base_uri": "https://localhost:8080/",
          "height": 672
        },
        "outputId": "fa4cc283-01af-490d-c9e6-c3176ddee45c"
      },
      "source": [
        "predictions=model.predict(x_test)\n",
        "print(predictions)\n",
        "print(y_test)"
      ],
      "execution_count": 19,
      "outputs": [
        {
          "output_type": "stream",
          "text": [
            "['versicolor' 'setosa' 'virginica' 'versicolor' 'versicolor' 'setosa'\n",
            " 'versicolor' 'virginica' 'versicolor' 'versicolor' 'virginica' 'setosa'\n",
            " 'setosa' 'setosa' 'setosa' 'versicolor' 'virginica' 'versicolor'\n",
            " 'versicolor' 'virginica' 'setosa' 'virginica' 'setosa' 'virginica'\n",
            " 'virginica' 'virginica' 'virginica' 'virginica' 'setosa' 'setosa']\n",
            "73     versicolor\n",
            "18         setosa\n",
            "118     virginica\n",
            "78     versicolor\n",
            "76     versicolor\n",
            "31         setosa\n",
            "64     versicolor\n",
            "141     virginica\n",
            "68     versicolor\n",
            "82     versicolor\n",
            "110     virginica\n",
            "12         setosa\n",
            "36         setosa\n",
            "9          setosa\n",
            "19         setosa\n",
            "56     versicolor\n",
            "104     virginica\n",
            "69     versicolor\n",
            "55     versicolor\n",
            "132     virginica\n",
            "29         setosa\n",
            "127     virginica\n",
            "26         setosa\n",
            "128     virginica\n",
            "131     virginica\n",
            "145     virginica\n",
            "108     virginica\n",
            "143     virginica\n",
            "45         setosa\n",
            "30         setosa\n",
            "Name: species, dtype: object\n"
          ],
          "name": "stdout"
        }
      ]
    },
    {
      "cell_type": "markdown",
      "metadata": {
        "id": "nbiaNZGezCyf",
        "colab_type": "text"
      },
      "source": [
        "#**8** Check Precision"
      ]
    },
    {
      "cell_type": "code",
      "metadata": {
        "id": "paW1jGwXyw9K",
        "colab_type": "code",
        "colab": {
          "base_uri": "https://localhost:8080/",
          "height": 199
        },
        "outputId": "4e3e3c22-1cf9-4dae-9c4a-d63b84859e6e"
      },
      "source": [
        "# check precision ,recall,fl-score\n",
        "print(classification_report(y_test,predictions))\n"
      ],
      "execution_count": 20,
      "outputs": [
        {
          "output_type": "stream",
          "text": [
            "              precision    recall  f1-score   support\n",
            "\n",
            "      setosa       1.00      1.00      1.00        10\n",
            "  versicolor       1.00      1.00      1.00         9\n",
            "   virginica       1.00      1.00      1.00        11\n",
            "\n",
            "    accuracy                           1.00        30\n",
            "   macro avg       1.00      1.00      1.00        30\n",
            "weighted avg       1.00      1.00      1.00        30\n",
            "\n"
          ],
          "name": "stdout"
        }
      ]
    },
    {
      "cell_type": "code",
      "metadata": {
        "id": "WzeZqn-QzLIv",
        "colab_type": "code",
        "colab": {}
      },
      "source": [
        "# here we are 100 percent accurate as it doesnot posses any missing values in the dataset which we have.\n"
      ],
      "execution_count": null,
      "outputs": []
    },
    {
      "cell_type": "markdown",
      "metadata": {
        "id": "nohAGrS9zy4y",
        "colab_type": "text"
      },
      "source": [
        "#9. accuracies score"
      ]
    },
    {
      "cell_type": "code",
      "metadata": {
        "id": "L5Xy7Tvcz5g8",
        "colab_type": "code",
        "colab": {
          "base_uri": "https://localhost:8080/",
          "height": 35
        },
        "outputId": "2de14381-8652-489f-fbeb-2726e18a6449"
      },
      "source": [
        "print(\"Logistic Regression \" ,accuracy_score(y_test,predictions))"
      ],
      "execution_count": 21,
      "outputs": [
        {
          "output_type": "stream",
          "text": [
            "Logistic Regression  1.0\n"
          ],
          "name": "stdout"
        }
      ]
    },
    {
      "cell_type": "markdown",
      "metadata": {
        "id": "LwWzQ6z80Jbg",
        "colab_type": "text"
      },
      "source": [
        "#Instead of that of accuracy scores its more realiable to have confusion matrix as : both could tell the speficity of the accuracy"
      ]
    },
    {
      "cell_type": "code",
      "metadata": {
        "id": "Y7rAZ1vL0aUy",
        "colab_type": "code",
        "colab": {
          "base_uri": "https://localhost:8080/",
          "height": 90
        },
        "outputId": "aaf80d90-60b4-42e7-d8ab-8c5d29fc95dd"
      },
      "source": [
        "#Confusion matrix\n",
        "print(\"Confusion Matrix for logistic regresion :\\n\",confusion_matrix(y_test,predictions))"
      ],
      "execution_count": 22,
      "outputs": [
        {
          "output_type": "stream",
          "text": [
            "Confusion Matrix for logistic regresion :\n",
            " [[10  0  0]\n",
            " [ 0  9  0]\n",
            " [ 0  0 11]]\n"
          ],
          "name": "stdout"
        }
      ]
    },
    {
      "cell_type": "code",
      "metadata": {
        "id": "Bg9kyRDy0rvR",
        "colab_type": "code",
        "colab": {}
      },
      "source": [
        "# thus our prediction is accurate and precised upto 100% this is beacause we are not having missing values is one of the factore\n",
        "\n",
        "#thank u \n",
        "#skylab\n",
        "#by Priyanka Sharma   ( ML ,AI,Deep Learner)"
      ],
      "execution_count": 24,
      "outputs": []
    },
    {
      "cell_type": "code",
      "metadata": {
        "id": "p8dCZHhXAaq4",
        "colab_type": "code",
        "colab": {}
      },
      "source": [
        ""
      ],
      "execution_count": null,
      "outputs": []
    }
  ]
}